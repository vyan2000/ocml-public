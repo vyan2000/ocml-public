{
 "cells": [
  {
   "cell_type": "code",
   "execution_count": 5,
   "metadata": {
    "collapsed": false
   },
   "outputs": [
    {
     "name": "stdout",
     "output_type": "stream",
     "text": [
      "<class 'numpy.timedelta64'>\n",
      "277 days\n",
      "difference in days: 277.0\n",
      "difference in hours: 6648.0\n",
      "difference in mintes: 398880.0\n",
      "difference in second: 23932800.0\n",
      "difference in millisecond: 23932800000.0\n"
     ]
    }
   ],
   "source": [
    "import numpy as np\n",
    "import xarray as xr\n",
    "\n",
    "#list(floatsDFAll_9Dtimeorder.time)[:5]\n",
    "#floatsDFAll_9Dtimeorder.time[:5]\n",
    "#ds_9day\n",
    "\n",
    "### np.datetime64 support arithmics on date\n",
    "### an example\n",
    "dt64 = np.datetime64('2012-05-01') \n",
    "dt64\n",
    "dt65 = np.datetime64('2013-02-02') \n",
    "dt65\n",
    "difference = dt65 - dt64 \n",
    "#difference.day\n",
    "print(type(difference))\n",
    "print(difference)\n",
    "\n",
    "# in different units\n",
    "print('difference in days:',  difference / np.timedelta64(1, 'D') )\n",
    "print('difference in hours:',  difference / np.timedelta64(1, 'h') )\n",
    "print('difference in mintes:',  difference / np.timedelta64(1, 'm') )\n",
    "print('difference in second:',  difference / np.timedelta64(1, 's') )\n",
    "print('difference in millisecond:',  difference / np.timedelta64(1, 'ms') )"
   ]
  },
  {
   "cell_type": "code",
   "execution_count": 6,
   "metadata": {
    "collapsed": false
   },
   "outputs": [
    {
     "name": "stdout",
     "output_type": "stream",
     "text": [
      "chl_newInt <xarray.Dataset>\n",
      "Dimensions:  (id: 3)\n",
      "Coordinates:\n",
      "  * id       (id) int64 10206 10206 10206\n",
      "    lat      (id) float64 5.208 5.292 5.208\n",
      "    lon      (id) float64 74.71 74.63 74.71\n",
      "Data variables:\n",
      "    chl      (id) float64 -0.1381 0.1208 -0.7339\n",
      "\n",
      " \n",
      "\n",
      "chl_newInt.chl <xarray.DataArray 'chl' (id: 3)>\n",
      "array([-0.13807991,  0.12080306, -0.73387858])\n",
      "Coordinates:\n",
      "  * id       (id) int64 10206 10206 10206\n",
      "    lat      (id) float64 5.208 5.292 5.208\n",
      "    lon      (id) float64 74.71 74.63 74.71\n",
      "\n",
      " da_test1 <xarray.DataArray (x: 3)>\n",
      "array([ 0.59096338,  0.50847185,  0.39790786])\n",
      "Coordinates:\n",
      "  * x        (x) int64 10206 10206 10206\n",
      "    y        int64 2\n",
      "\n",
      " da_test2 <xarray.DataArray (x: 3, y: 1)>\n",
      "array([[ 0.13851448],\n",
      "       [ 0.46728297],\n",
      "       [ 0.32533655]])\n",
      "Coordinates:\n",
      "  * x        (x) int64 0 1 2\n",
      "  * y        (y) int64 0\n",
      "\n",
      " da_test3 <xarray.DataArray (y: 3, x: 4)>\n",
      "array([[ 0.79212003,  0.30341619,  0.10188579,  0.62638361],\n",
      "       [ 0.13816157,  0.03047948,  0.92771604,  0.16861177],\n",
      "       [ 0.17675845,  0.61119048,  0.45189532,  0.12801019]])\n",
      "Coordinates:\n",
      "  * x        (x) int64 0 1 2 3\n",
      "  * y        (y) int64 0 1 2\n",
      "<xarray.DataArray (x: 10)>\n",
      "array([ 0.52667966,  0.89246729,  0.02295935,  0.24070524,  0.19497549,\n",
      "        0.34146071,  0.37432389,  0.07836756,  0.86965102,  0.66962386])\n",
      "Coordinates:\n",
      "  * x        (x) int64 0 1 2 3 4 5 6 7 8 9\n"
     ]
    },
    {
     "data": {
      "text/plain": [
       "<xarray.DataArray (float_number: 2)>\n",
       "array([ 0.34146071,  0.37432389])\n",
       "Coordinates:\n",
       "    x             (float_number) int64 5 6\n",
       "  * float_number  (float_number) int64 0 1"
      ]
     },
     "execution_count": 6,
     "metadata": {},
     "output_type": "execute_result"
    }
   ],
   "source": [
    "#########\n",
    "# an concrete example of how to generate xarray dataset and dataarray\n",
    "# this is the way how xarray.Dataset works\n",
    "# if you want a xarray.DataArray, first generate a xarray.Dataset, then select DataArray from there.\n",
    "chl_newInt = xr.Dataset({'chl': (['id'], np.random.randn(3))},\n",
    "                        coords={ \n",
    "                           'id':  (['id'], np.array([10206, 10206, 10206])), \n",
    "                           'lon': (['id'], np.array([74.7083358765, 74.6250076294,74.7083358765])), \n",
    "                           'lat': (['id'], np.array([5.20833349228, 5.29166173935, 5.20833349228]))})\n",
    "print('chl_newInt', chl_newInt)\n",
    "print('\\n \\n')\n",
    "print('chl_newInt.chl', chl_newInt.chl)\n",
    "      \n",
    "### a few small examples.\n",
    "da_test1 = xr.DataArray(np.random.rand(3), dims=['x'],\n",
    "                        coords={'x': np.array([10206, 10206, 10206]), 'y':  2} )\n",
    "print('\\n da_test1', da_test1)\n",
    "\n",
    "# ----\n",
    "da_test2 = xr.DataArray(np.random.rand(3,1), dims=['x','y'],\n",
    "                        coords={'x': np.arange(3), 'y': np.arange(1)})\n",
    "print('\\n da_test2', da_test2)\n",
    "\n",
    "# ---\n",
    "da_test3 = xr.DataArray(np.random.rand(3,4), dims=['y','x'],\n",
    "                       coords={'y': np.arange(3), 'x': np.arange(4)})\n",
    "da_test3\n",
    "print(\"\\n da_test3\", da_test3)\n",
    "\n",
    "# ---\n",
    "da1 = xr.DataArray(np.random.rand(10), dims='x')\n",
    "print(da1)\n",
    "da1.sel_points(x=[5,6], dim='float_number') # dim is just the name of the coordinates"
   ]
  },
  {
   "cell_type": "code",
   "execution_count": null,
   "metadata": {
    "collapsed": true
   },
   "outputs": [],
   "source": []
  }
 ],
 "metadata": {
  "kernelspec": {
   "display_name": "Python 3",
   "language": "python",
   "name": "python3"
  },
  "language_info": {
   "codemirror_mode": {
    "name": "ipython",
    "version": 3
   },
   "file_extension": ".py",
   "mimetype": "text/x-python",
   "name": "python",
   "nbconvert_exporter": "python",
   "pygments_lexer": "ipython3",
   "version": "3.5.3"
  }
 },
 "nbformat": 4,
 "nbformat_minor": 2
}
