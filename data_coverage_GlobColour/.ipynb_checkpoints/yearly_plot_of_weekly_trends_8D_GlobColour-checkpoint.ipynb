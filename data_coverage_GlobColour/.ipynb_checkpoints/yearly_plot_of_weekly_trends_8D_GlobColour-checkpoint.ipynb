{
 "cells": [
  {
   "cell_type": "markdown",
   "metadata": {
    "deletable": true,
    "editable": true
   },
   "source": [
    "# Weekly trends plot for different years\n",
    "* resampling frequency is 'freq' Days\n",
    "* various rates of the chlor-a concentration\n",
    "* composition plots for all years\n",
    "* binned plots using 'week no.' during November to March for all years and individual years\n",
    "* \"fixed scale\" seems more illustrative than the \"min-max scale\""
   ]
  },
  {
   "cell_type": "code",
   "execution_count": null,
   "metadata": {
    "collapsed": true,
    "deletable": true,
    "editable": true
   },
   "outputs": [],
   "source": [
    "import xarray as xr\n",
    "import numpy as np\n",
    "import pandas as pd\n",
    "%matplotlib inline\n",
    "from matplotlib import pyplot as plt\n",
    "from dask.diagnostics import ProgressBar\n",
    "import seaborn as sns\n",
    "from matplotlib.colors import LogNorm"
   ]
  },
  {
   "cell_type": "code",
   "execution_count": null,
   "metadata": {
    "collapsed": true,
    "deletable": true,
    "editable": true
   },
   "outputs": [],
   "source": [
    "# resampling frequency in number of days\n",
    "freq=8"
   ]
  },
  {
   "cell_type": "code",
   "execution_count": null,
   "metadata": {
    "collapsed": false,
    "deletable": true,
    "editable": true,
    "scrolled": false
   },
   "outputs": [],
   "source": [
    "# load preprocessed float data, and start the interpolation right here!!!!\n",
    "var7 = \"chlrateweekno\"\n",
    "var6 = \"sst4\"\n",
    "var5 = \"par\"\n",
    "var4 = \"t865\"\n",
    "var3 = \"kd490\"\n",
    "var2 = \"cdm\"\n",
    "var1 = \"chl\"\n",
    "vardist = \"dist\"\n",
    "\n",
    "indir_prefix = \"../../data_collector_globcolour/output.data.interpolate/2017GDPfloat/\" + \"df_Globcolor_\"\n",
    "indir = indir_prefix + var1 + vardist + var2 + var3 + var4 + var5 + var6 + var7 + \"_\" + str(freq) + \"d.csv\"\n",
    "\n",
    "floatDF_tmp = pd.read_csv(indir,index_col=0)\n",
    "print(floatDF_tmp)\n",
    "\n",
    "\n",
    "### plot for id 125776, which will be fit by LDS\n",
    "plt.figure(figsize=(8,6))\n",
    "floatDF_tmp[floatDF_tmp.id == 135776].plot(x='time', y ='chl_rate', title=('id - %d' % 135776) )\n",
    "plt.show();\n",
    "plt.close(\"all\")"
   ]
  },
  {
   "cell_type": "code",
   "execution_count": null,
   "metadata": {
    "collapsed": true,
    "deletable": true,
    "editable": true
   },
   "outputs": [],
   "source": []
  },
  {
   "cell_type": "code",
   "execution_count": null,
   "metadata": {
    "collapsed": true,
    "deletable": true,
    "editable": true
   },
   "outputs": [],
   "source": []
  },
  {
   "cell_type": "code",
   "execution_count": null,
   "metadata": {
    "collapsed": false,
    "deletable": true,
    "editable": true
   },
   "outputs": [],
   "source": [
    "# https://stackoverflow.com/questions/16780014/import-file-from-parent-directory\n",
    "# https://stackoverflow.com/questions/16771894/python-nameerror-global-name-file-is-not-defined\n",
    "import os, sys\n",
    "sys.path.append(os.path.dirname(os.path.dirname(os.path.dirname(os.path.abspath(\"__file__\")))))\n",
    "\n",
    "from tools import chl_rates  # del(chl_rates)\n",
    "import importlib\n",
    "importlib.reload(chl_rates)"
   ]
  },
  {
   "cell_type": "code",
   "execution_count": null,
   "metadata": {
    "collapsed": false,
    "deletable": true,
    "editable": true,
    "scrolled": false
   },
   "outputs": [],
   "source": [
    "print(\"\\n ******* Reduce the Dataset to 'Nov-01 to Mar-31' ******* \\n\" )\n",
    "floatsDF_NovMar = chl_rates.reduce_to_NovMar(floatDF_tmp)\n",
    "\n",
    "print(\"\\n ******* weekly plots and spatial plots on various rates of chl-a and log-scale chl-a ******* \\n\")\n",
    "chl_rates.spatial_plots_chl_rate_weekly(floatsDF_NovMar )"
   ]
  },
  {
   "cell_type": "code",
   "execution_count": null,
   "metadata": {
    "collapsed": true,
    "deletable": true,
    "editable": true
   },
   "outputs": [],
   "source": []
  },
  {
   "cell_type": "code",
   "execution_count": null,
   "metadata": {
    "collapsed": true,
    "deletable": true,
    "editable": true
   },
   "outputs": [],
   "source": []
  },
  {
   "cell_type": "code",
   "execution_count": null,
   "metadata": {
    "collapsed": false,
    "deletable": true,
    "editable": true
   },
   "outputs": [],
   "source": [
    "floatsDF_NovMar['time'] = pd.to_datetime(floatsDF_NovMar['time']) # ,format='%m/%d/%y %I:%M%p'\n",
    "floatsDF_NovMar = floatsDF_NovMar.set_index('time')\n",
    "# add a new column to the dataset\n",
    "floatsDF_NovMar['year'] = floatsDF_NovMar.index.year\n",
    "floatsDF_NovMar[:20]\n",
    "\n",
    "year_max = floatsDF_NovMar.index.year.max()\n",
    "year_min = floatsDF_NovMar.index.year.min()\n",
    "print('year_max', year_max)\n",
    "print('year_min', year_min)\n",
    "#print(df_timed)"
   ]
  },
  {
   "cell_type": "code",
   "execution_count": null,
   "metadata": {
    "collapsed": false,
    "deletable": true,
    "editable": true
   },
   "outputs": [],
   "source": [
    "### Part 1: Plot for the mean of the weekly trends\n",
    "### Mean\n",
    "start = year_min\n",
    "for i in range(0,3):\n",
    "    #plt.subplot(311+i)\n",
    "    plt.figure(figsize=(8,6))\n",
    "    plt.title(\"mean of the weekly-binned standardized Lagrangian rate of change per day of Chl-a\", fontsize=10)\n",
    "    for current_year in range(start, start+5):\n",
    "        mask = floatsDF_NovMar.year == current_year\n",
    "        df_yearly = floatsDF_NovMar[mask]\n",
    "        #print('\\n summary statistics of chl_rate_week for the year %d \\n' % (current_year) )\n",
    "        #print(df_yearly.chl_rate_week.describe())\n",
    "        axes1=df_yearly.groupby(['week_rotate'])['chl_rate_stand'].mean().plot(linestyle=\"-\", linewidth=0.8,  label='%d' % current_year  )\n",
    "\n",
    "    start = start + 5\n",
    "    axes1.set_ylim(-1.5, 1)\n",
    "    #axes1.set_title(\"Year \" + str(current_year) + \": Line plot of the weekly data on the rate of change per week of the $Chl_a$ Concentration\",  fontsize=10)\n",
    "    plt.xlabel('week', fontsize=10)\n",
    "    plt.ylabel('rate of change of the $Chl_a$ in $mg/(m^3 \\cdot days)$', fontsize=10)\n",
    "    plt.yticks(np.arange(-1.5, 1, 0.25))\n",
    "    plt.xticks(np.arange(1, 25, 1))\n",
    "\n",
    "    axes1.legend(bbox_to_anchor=(1.15, 1.05))\n",
    "    #plt.savefig(str(freq)+\"D_weekly_mean_\" + str(i) +\".pdf\")\n",
    "    plt.show()\n",
    "    \n",
    "    plt.close()"
   ]
  },
  {
   "cell_type": "code",
   "execution_count": null,
   "metadata": {
    "collapsed": false,
    "deletable": true,
    "editable": true
   },
   "outputs": [],
   "source": [
    "### Part 4: Plot for the 75% quantile of the weekly trends\n",
    "### 85% quantile\n",
    "start = year_min\n",
    "for i in range(0,3):\n",
    "    #plt.subplot(311+i)\n",
    "    plt.figure(figsize=(8,6))\n",
    "    plt.title(\"85% of the weekly-binned standardized Lagrangian rate of change per day of Chl-a\", fontsize=10)\n",
    "    for current_year in range(start, start+5):\n",
    "        mask = floatsDF_NovMar.year == current_year\n",
    "        df_yearly = floatsDF_NovMar[mask]\n",
    "        #print('\\n summary statistics of chl_rate_week for the year %d \\n' % (current_year) )\n",
    "        #print(df_yearly.chl_rate_week.describe())\n",
    "        axes1=df_yearly.groupby(['week_rotate'])['chl_rate_stand'].quantile(.85).plot(linestyle=\"-\", linewidth=0.8,  label='%d' % current_year  )\n",
    "\n",
    "    start = start + 4\n",
    "    axes1.set_ylim(-1, 1)\n",
    "    #axes1.set_title(\"Year \" + str(current_year) + \": Line plot of the weekly data on the rate of change per week of the $Chl_a$ Concentration\",  fontsize=10)\n",
    "    plt.xlabel('week', fontsize=10)\n",
    "    plt.ylabel('rate of change of the $Chl_a$ in $mg/(m^3 \\cdot days)$', fontsize=10)\n",
    "    plt.yticks(np.arange(-1, 1, 0.25))\n",
    "    plt.xticks(np.arange(1, 25, 1))\n",
    "\n",
    "    axes1.legend(bbox_to_anchor=(1.15, 1.05))\n",
    "    #plt.savefig(str(freq)+\"D_weekly_quantile(75)_\" + str(i) +\".pdf\")\n",
    "    plt.show()  \n",
    "    plt.close()"
   ]
  },
  {
   "cell_type": "code",
   "execution_count": null,
   "metadata": {
    "collapsed": false,
    "deletable": true,
    "editable": true
   },
   "outputs": [],
   "source": [
    "### Part 2: Plot for the median of the weekly trends\n",
    "### Median\n",
    "start = year_min\n",
    "for i in range(0,3):\n",
    "    #plt.subplot(311+i)\n",
    "    plt.figure(figsize=(8,6))\n",
    "    plt.title(\"median of the weekly-binned standardized Lagrangian rate of change per day of Chl-a\", fontsize=10)\n",
    "    for current_year in range(start, start+5):\n",
    "        mask = floatsDF_NovMar.year == current_year\n",
    "        df_yearly = floatsDF_NovMar[mask]\n",
    "        #print('\\n summary statistics of chl_rate_week for the year %d \\n' % (current_year) )\n",
    "        #print(df_yearly.chl_rate_week.describe())\n",
    "        axes1=df_yearly.groupby(['week_rotate'])['chl_rate_stand'].quantile(.50).plot(linestyle=\"-\", linewidth=0.8,  label='%d' % current_year  )\n",
    "\n",
    "    start = start + 4\n",
    "    axes1.set_ylim(-1, 1)\n",
    "    #axes1.set_title(\"Year \" + str(current_year) + \": Line plot of the weekly data on the rate of change per week of the $Chl_a$ Concentration\",  fontsize=10)\n",
    "    plt.xlabel('week', fontsize=10)\n",
    "    plt.ylabel('rate of change of the $Chl_a$ in $mg/(m^3 \\cdot days)$', fontsize=10)\n",
    "    plt.yticks(np.arange(-1, 1, 0.25))\n",
    "    plt.xticks(np.arange(1, 25, 1))\n",
    "\n",
    "    axes1.legend(bbox_to_anchor=(1.15, 1.05))\n",
    "    #plt.savefig(str(freq)+\"D_weekly_median_\" + str(i) +\".pdf\")\n",
    "    plt.show()  \n",
    "    plt.close()"
   ]
  },
  {
   "cell_type": "code",
   "execution_count": null,
   "metadata": {
    "collapsed": false,
    "deletable": true,
    "editable": true
   },
   "outputs": [],
   "source": [
    "### Part 3: Plot for the 25% quantile of the weekly trends\n",
    "### 15% quantile\n",
    "start = year_min\n",
    "for i in range(0,3):\n",
    "    #plt.subplot(311+i)\n",
    "    plt.figure(figsize=(8,6))\n",
    "    plt.title(\"15% quantile of the weekly-binned standardized Lagrangian rate of change per day of Chl-a\", fontsize=10)\n",
    "    for current_year in range(start, start+5):\n",
    "        mask = floatsDF_NovMar.year == current_year\n",
    "        df_yearly = floatsDF_NovMar[mask]\n",
    "        #print('\\n summary statistics of chl_rate_week for the year %d \\n' % (current_year) )\n",
    "        #print(df_yearly.chl_rate_week.describe())\n",
    "        axes1=df_yearly.groupby(['week_rotate'])['chl_rate_stand'].quantile(.15).plot(linestyle=\"-\", linewidth=0.8,  label='%d' % current_year  )\n",
    "\n",
    "    start = start + 4\n",
    "    axes1.set_ylim(-2, 1)\n",
    "    #axes1.set_title(\"Year \" + str(current_year) + \": Line plot of the weekly data on the rate of change per week of the $Chl_a$ Concentration\",  fontsize=10)\n",
    "    plt.xlabel('week', fontsize=10)\n",
    "    plt.ylabel('rate of change of the $Chl_a$ in $mg/(m^3 \\cdot days)$', fontsize=10)\n",
    "    plt.yticks(np.arange(-2, 1, 0.25))\n",
    "    plt.xticks(np.arange(1, 25, 1))\n",
    "\n",
    "    axes1.legend(bbox_to_anchor=(1.15, 1.05))\n",
    "    #plt.savefig(str(freq)+\"D_weekly_quantile(25)_\" + str(i) +\".pdf\")\n",
    "    plt.show()  \n",
    "    plt.close()"
   ]
  },
  {
   "cell_type": "code",
   "execution_count": null,
   "metadata": {
    "collapsed": false,
    "deletable": true,
    "editable": true
   },
   "outputs": [],
   "source": [
    "#matplotlib.pyplot.close(\"all\")\n",
    "plt.close('all')\n",
    "plt.cla()  # axis\n",
    "plt.clf()  # figure\n",
    "plt.show()"
   ]
  },
  {
   "cell_type": "code",
   "execution_count": null,
   "metadata": {
    "collapsed": true,
    "deletable": true,
    "editable": true
   },
   "outputs": [],
   "source": []
  },
  {
   "cell_type": "code",
   "execution_count": null,
   "metadata": {
    "collapsed": true,
    "deletable": true,
    "editable": true
   },
   "outputs": [],
   "source": []
  },
  {
   "cell_type": "code",
   "execution_count": null,
   "metadata": {
    "collapsed": false,
    "deletable": true,
    "editable": true
   },
   "outputs": [],
   "source": [
    "year_max = floatsDF_NovMar.index.year.max()\n",
    "year_min = floatsDF_NovMar.index.year.min()\n",
    "print('year_max', year_max)\n",
    "print('year_min', year_min)\n",
    "#print(df_timed)\n"
   ]
  },
  {
   "cell_type": "code",
   "execution_count": null,
   "metadata": {
    "collapsed": false,
    "deletable": true,
    "editable": true,
    "scrolled": false
   },
   "outputs": [],
   "source": [
    "# [print(i) for i in range(year_min,year_max+1)]\n",
    "# for  each year\n",
    "\n",
    "\n",
    "for current_year in range(year_min, year_max+1):\n",
    "    mask = floatsDF_NovMar.year == current_year\n",
    "    df_yearly = floatsDF_NovMar[mask]\n",
    "\n",
    "    print('\\n summary statistics of chl_rate_stand for the year %d \\n' % (current_year) )\n",
    "    print(df_yearly.chl_rate_stand.describe())\n",
    "\n",
    "\n",
    "    plt.figure(figsize=(8,6))\n",
    "    axes1=df_yearly.groupby(['week_rotate'])['chl_rate_stand'].mean().plot(linestyle=\"-\",color='b', linewidth=1)\n",
    "    df_yearly.groupby(['week_rotate'])['chl_rate_stand'].quantile(.85).plot(linestyle=\"--\",color='g', linewidth=0.35)\n",
    "    df_yearly.groupby(['week_rotate'])['chl_rate_stand'].quantile(.50).plot(linestyle=\"--\",color='r', linewidth=0.75)\n",
    "    df_yearly.groupby(['week_rotate'])['chl_rate_stand'].quantile(.15).plot(linestyle=\"--\",color='g', linewidth=0.35)\n",
    "    axes1.set_ylim(-2, 2)\n",
    "    axes1.set_title(\"Year \" + str(current_year) + \": Line plot of the weekly data on the standardized rate of change per day of the $Chl_a$ Concentration\",  fontsize=10)\n",
    "    plt.xlabel('week', fontsize=10)\n",
    "    plt.ylabel('rate of change of the $Chl_a$ in $mg/(m^3 \\cdot day)$', fontsize=10)\n",
    "    plt.yticks(np.arange(-2, 2, 0.25))\n",
    "    plt.xticks(np.arange(1, 25, 1))\n",
    "    plt.show()\n",
    "    plt.close()\n",
    "\n",
    "\n",
    "    # http://pandas.pydata.org/pandas-docs/version/0.19.1/visualization.html\n",
    "    #http://blog.bharatbhole.com/creating-boxplots-with-matplotlib/\n",
    "    plt.figure(figsize=(8,6))\n",
    "    axes2 = df_yearly.boxplot(column='chl_rate_stand', by='week_rotate')\n",
    "    axes2.set_ylim(-2, 2)\n",
    "    #axes2.set_title(\"Box plot of the weekly data \\n on the rate of change per week of the $Chl_a$ Concentration\",  fontsize=10)\n",
    "    plt.title(\"Year \" + str(current_year) + \": Box plot of the weekly data \\n on the standardized rate of change per day of the $Chl_a$ Concentration\",  fontsize=10)\n",
    "    plt.suptitle(\"\") # remove auto-title\n",
    "    plt.xlabel('week', fontsize=10)\n",
    "    plt.ylabel('rate of change of the $Chl_a$ in $mg/(m^3 \\cdot day)$', fontsize=10)\n",
    "    plt.yticks(np.arange(-2, 2, 0.25))\n",
    "    plt.xticks(np.arange(1, 25, 1))\n",
    "    plt.show()\n",
    "    plt.close()\n",
    "    # the rate of change is slower on the regular scale\n",
    "\n",
    "#matplotlib.pyplot.close(\"all\")\n",
    "plt.close('all')\n",
    "plt.cla()  # axis\n",
    "plt.clf()  # figure\n",
    "plt.show()"
   ]
  },
  {
   "cell_type": "code",
   "execution_count": null,
   "metadata": {
    "collapsed": true,
    "deletable": true,
    "editable": true
   },
   "outputs": [],
   "source": []
  },
  {
   "cell_type": "code",
   "execution_count": null,
   "metadata": {
    "collapsed": true,
    "deletable": true,
    "editable": true
   },
   "outputs": [],
   "source": []
  }
 ],
 "metadata": {
  "kernelspec": {
   "display_name": "Python 3",
   "language": "python",
   "name": "python3"
  },
  "language_info": {
   "codemirror_mode": {
    "name": "ipython",
    "version": 3
   },
   "file_extension": ".py",
   "mimetype": "text/x-python",
   "name": "python",
   "nbconvert_exporter": "python",
   "pygments_lexer": "ipython3",
   "version": "3.5.3"
  }
 },
 "nbformat": 4,
 "nbformat_minor": 2
}
