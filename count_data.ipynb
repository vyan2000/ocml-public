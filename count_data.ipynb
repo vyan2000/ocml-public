{
 "cells": [
  {
   "cell_type": "markdown",
   "metadata": {},
   "source": [
    "# statistics on the resolution of our experiment\n",
    "## use dataframe to store the number of datapoints for each subsampling"
   ]
  },
  {
   "cell_type": "code",
   "execution_count": 1,
   "metadata": {
    "collapsed": false
   },
   "outputs": [],
   "source": [
    "import pandas as pd\n",
    "import numpy as np\n",
    "%matplotlib inline\n",
    "import matplotlib.pyplot as plt"
   ]
  },
  {
   "cell_type": "code",
   "execution_count": 2,
   "metadata": {
    "collapsed": true
   },
   "outputs": [],
   "source": [
    "data_dict = {}"
   ]
  },
  {
   "cell_type": "code",
   "execution_count": 4,
   "metadata": {
    "collapsed": false
   },
   "outputs": [],
   "source": [
    "count_2d= [82, 1, 9, 76, 35, 132, 32, 46, 3, 37, 0, 176, 126, 50]  # 805\n",
    "data_dict ={'count_2d': count_2d} # need to hold something before use .update function"
   ]
  },
  {
   "cell_type": "code",
   "execution_count": 5,
   "metadata": {
    "collapsed": false
   },
   "outputs": [],
   "source": [
    "count_3d = [76, 0, 5, 65, 38, 108, 35, 44, 3, 36, 0, 160, 119, 50] # 739\n",
    "data_dict.update({'count_3d': count_3d})"
   ]
  },
  {
   "cell_type": "code",
   "execution_count": 6,
   "metadata": {
    "collapsed": true
   },
   "outputs": [],
   "source": [
    "count_4d = [66, 0, 9, 67, 30, 126, 36, 55, 1, 40, 0, 169, 118, 57] # 774\n",
    "data_dict.update({'count_4d': count_4d})"
   ]
  },
  {
   "cell_type": "code",
   "execution_count": 7,
   "metadata": {
    "collapsed": true
   },
   "outputs": [],
   "source": [
    "count_5d = [73, 1, 6, 71, 39, 120, 30, 45, 5, 46, 0, 153, 105, 60] # 754\n",
    "data_dict.update({'count_5d': count_5d})"
   ]
  },
  {
   "cell_type": "code",
   "execution_count": 8,
   "metadata": {
    "collapsed": true
   },
   "outputs": [],
   "source": [
    "count_6d = [71, 1, 7, 75, 51, 119, 27, 55, 7, 45, 0, 125, 110, 52] # 745\n",
    "data_dict.update({'count_6d': count_6d})"
   ]
  },
  {
   "cell_type": "code",
   "execution_count": 9,
   "metadata": {
    "collapsed": true
   },
   "outputs": [],
   "source": [
    "count_7d = [63, 0, 6, 72, 40, 122, 28, 58, 6, 44, 0, 118, 110, 56]   # 723\n",
    "data_dict.update({'count_7d': count_7d})"
   ]
  },
  {
   "cell_type": "code",
   "execution_count": 10,
   "metadata": {
    "collapsed": true
   },
   "outputs": [],
   "source": [
    "count_8d =  [56, 0, 11, 74, 47, 109, 31, 49, 3, 35, 0, 125, 97, 55] #  692\n",
    "data_dict.update({'count_8d': count_8d})"
   ]
  },
  {
   "cell_type": "code",
   "execution_count": 11,
   "metadata": {
    "collapsed": true
   },
   "outputs": [],
   "source": [
    "count_8d_DS = [56, 0, 11, 73, 44, 108, 29, 51, 1, 38, 0, 120, 97, 55] # 683\n",
    "data_dict.update({'count_8d_DS': count_8d_DS})"
   ]
  },
  {
   "cell_type": "code",
   "execution_count": 12,
   "metadata": {
    "collapsed": false
   },
   "outputs": [
    {
     "name": "stdout",
     "output_type": "stream",
     "text": [
      "{'count_6d': [71, 1, 7, 75, 51, 119, 27, 55, 7, 45, 0, 125, 110, 52], 'count_2d': [82, 1, 9, 76, 35, 132, 32, 46, 3, 37, 0, 176, 126, 50], 'count_3d': [76, 0, 5, 65, 38, 108, 35, 44, 3, 36, 0, 160, 119, 50], 'count_8d': [56, 0, 11, 74, 47, 109, 31, 49, 3, 35, 0, 125, 97, 55], 'count_5d': [73, 1, 6, 71, 39, 120, 30, 45, 5, 46, 0, 153, 105, 60], 'count_7d': [63, 0, 6, 72, 40, 122, 28, 58, 6, 44, 0, 118, 110, 56], 'count_9d': [58, 1, 9, 66, 44, 129, 28, 50, 5, 32, 0, 106, 91, 53], 'count_4d': [66, 0, 9, 67, 30, 126, 36, 55, 1, 40, 0, 169, 118, 57], 'count_8d_DS': [56, 0, 11, 73, 44, 108, 29, 51, 1, 38, 0, 120, 97, 55]}\n"
     ]
    }
   ],
   "source": [
    "count_9d = [58, 1, 9, 66, 44, 129, 28, 50, 5, 32, 0, 106, 91, 53]   # 672\n",
    "data_dict.update({'count_9d': count_9d})\n",
    "print(data_dict)"
   ]
  },
  {
   "cell_type": "code",
   "execution_count": 13,
   "metadata": {
    "collapsed": false
   },
   "outputs": [
    {
     "data": {
      "text/plain": [
       "\"\\nbase = 'count_'\\ncol_name = []\\nfor i in range(2,10):\\n    tmp = base+'%s' % i\\n    tmp = tmp+ 'd'\\n    col_name.append(tmp)\\n#print(col_name)\\n\\nfinal = base +'8d_DS' # add one more from the dataset directly\\ncol_name.append(final)\\nprint(col_name)\\n\""
      ]
     },
     "execution_count": 13,
     "metadata": {},
     "output_type": "execute_result"
    }
   ],
   "source": [
    "'''\n",
    "base = 'count_'\n",
    "col_name = []\n",
    "for i in range(2,10):\n",
    "    tmp = base+'%s' % i\n",
    "    tmp = tmp+ 'd'\n",
    "    col_name.append(tmp)\n",
    "#print(col_name)\n",
    "\n",
    "final = base +'8d_DS' # add one more from the dataset directly\n",
    "col_name.append(final)\n",
    "print(col_name)\n",
    "'''"
   ]
  },
  {
   "cell_type": "code",
   "execution_count": 16,
   "metadata": {
    "collapsed": false
   },
   "outputs": [
    {
     "name": "stdout",
     "output_type": "stream",
     "text": [
      "['2002-11-01 to 2003-03-31', '2003-11-01 to 2004-03-31', '2004-11-01 to 2005-03-31', '2005-11-01 to 2006-03-31', '2006-11-01 to 2007-03-31', '2007-11-01 to 2008-03-31', '2008-11-01 to 2009-03-31', '2009-11-01 to 2010-03-31', '2010-11-01 to 2011-03-31', '2011-11-01 to 2012-03-31', '2012-11-01 to 2013-03-31', '2013-11-01 to 2014-03-31', '2014-11-01 to 2015-03-31', '2015-11-01 to 2016-03-31']\n"
     ]
    }
   ],
   "source": [
    "# let's make a index for\n",
    "times = []\n",
    "for i in range(2002, 2016):\n",
    "    tmp= ('%d' % i) + '-11-01 to ' \n",
    "    tmp = tmp + ('%d' % (i+1)) + '-03-31'\n",
    "    times.append(tmp)\n",
    "\n",
    "print(times)"
   ]
  },
  {
   "cell_type": "code",
   "execution_count": 17,
   "metadata": {
    "collapsed": false
   },
   "outputs": [
    {
     "data": {
      "text/html": [
       "<div>\n",
       "<table border=\"1\" class=\"dataframe\">\n",
       "  <thead>\n",
       "    <tr style=\"text-align: right;\">\n",
       "      <th></th>\n",
       "      <th>count_2d</th>\n",
       "      <th>count_3d</th>\n",
       "      <th>count_4d</th>\n",
       "      <th>count_5d</th>\n",
       "      <th>count_6d</th>\n",
       "      <th>count_7d</th>\n",
       "      <th>count_8d</th>\n",
       "      <th>count_8d_DS</th>\n",
       "      <th>count_9d</th>\n",
       "    </tr>\n",
       "  </thead>\n",
       "  <tbody>\n",
       "    <tr>\n",
       "      <th>2002-11-01 to 2003-03-31</th>\n",
       "      <td>82</td>\n",
       "      <td>76</td>\n",
       "      <td>66</td>\n",
       "      <td>73</td>\n",
       "      <td>71</td>\n",
       "      <td>63</td>\n",
       "      <td>56</td>\n",
       "      <td>56</td>\n",
       "      <td>58</td>\n",
       "    </tr>\n",
       "    <tr>\n",
       "      <th>2003-11-01 to 2004-03-31</th>\n",
       "      <td>1</td>\n",
       "      <td>0</td>\n",
       "      <td>0</td>\n",
       "      <td>1</td>\n",
       "      <td>1</td>\n",
       "      <td>0</td>\n",
       "      <td>0</td>\n",
       "      <td>0</td>\n",
       "      <td>1</td>\n",
       "    </tr>\n",
       "    <tr>\n",
       "      <th>2004-11-01 to 2005-03-31</th>\n",
       "      <td>9</td>\n",
       "      <td>5</td>\n",
       "      <td>9</td>\n",
       "      <td>6</td>\n",
       "      <td>7</td>\n",
       "      <td>6</td>\n",
       "      <td>11</td>\n",
       "      <td>11</td>\n",
       "      <td>9</td>\n",
       "    </tr>\n",
       "    <tr>\n",
       "      <th>2005-11-01 to 2006-03-31</th>\n",
       "      <td>76</td>\n",
       "      <td>65</td>\n",
       "      <td>67</td>\n",
       "      <td>71</td>\n",
       "      <td>75</td>\n",
       "      <td>72</td>\n",
       "      <td>74</td>\n",
       "      <td>73</td>\n",
       "      <td>66</td>\n",
       "    </tr>\n",
       "    <tr>\n",
       "      <th>2006-11-01 to 2007-03-31</th>\n",
       "      <td>35</td>\n",
       "      <td>38</td>\n",
       "      <td>30</td>\n",
       "      <td>39</td>\n",
       "      <td>51</td>\n",
       "      <td>40</td>\n",
       "      <td>47</td>\n",
       "      <td>44</td>\n",
       "      <td>44</td>\n",
       "    </tr>\n",
       "    <tr>\n",
       "      <th>2007-11-01 to 2008-03-31</th>\n",
       "      <td>132</td>\n",
       "      <td>108</td>\n",
       "      <td>126</td>\n",
       "      <td>120</td>\n",
       "      <td>119</td>\n",
       "      <td>122</td>\n",
       "      <td>109</td>\n",
       "      <td>108</td>\n",
       "      <td>129</td>\n",
       "    </tr>\n",
       "    <tr>\n",
       "      <th>2008-11-01 to 2009-03-31</th>\n",
       "      <td>32</td>\n",
       "      <td>35</td>\n",
       "      <td>36</td>\n",
       "      <td>30</td>\n",
       "      <td>27</td>\n",
       "      <td>28</td>\n",
       "      <td>31</td>\n",
       "      <td>29</td>\n",
       "      <td>28</td>\n",
       "    </tr>\n",
       "    <tr>\n",
       "      <th>2009-11-01 to 2010-03-31</th>\n",
       "      <td>46</td>\n",
       "      <td>44</td>\n",
       "      <td>55</td>\n",
       "      <td>45</td>\n",
       "      <td>55</td>\n",
       "      <td>58</td>\n",
       "      <td>49</td>\n",
       "      <td>51</td>\n",
       "      <td>50</td>\n",
       "    </tr>\n",
       "    <tr>\n",
       "      <th>2010-11-01 to 2011-03-31</th>\n",
       "      <td>3</td>\n",
       "      <td>3</td>\n",
       "      <td>1</td>\n",
       "      <td>5</td>\n",
       "      <td>7</td>\n",
       "      <td>6</td>\n",
       "      <td>3</td>\n",
       "      <td>1</td>\n",
       "      <td>5</td>\n",
       "    </tr>\n",
       "    <tr>\n",
       "      <th>2011-11-01 to 2012-03-31</th>\n",
       "      <td>37</td>\n",
       "      <td>36</td>\n",
       "      <td>40</td>\n",
       "      <td>46</td>\n",
       "      <td>45</td>\n",
       "      <td>44</td>\n",
       "      <td>35</td>\n",
       "      <td>38</td>\n",
       "      <td>32</td>\n",
       "    </tr>\n",
       "    <tr>\n",
       "      <th>2012-11-01 to 2013-03-31</th>\n",
       "      <td>0</td>\n",
       "      <td>0</td>\n",
       "      <td>0</td>\n",
       "      <td>0</td>\n",
       "      <td>0</td>\n",
       "      <td>0</td>\n",
       "      <td>0</td>\n",
       "      <td>0</td>\n",
       "      <td>0</td>\n",
       "    </tr>\n",
       "    <tr>\n",
       "      <th>2013-11-01 to 2014-03-31</th>\n",
       "      <td>176</td>\n",
       "      <td>160</td>\n",
       "      <td>169</td>\n",
       "      <td>153</td>\n",
       "      <td>125</td>\n",
       "      <td>118</td>\n",
       "      <td>125</td>\n",
       "      <td>120</td>\n",
       "      <td>106</td>\n",
       "    </tr>\n",
       "    <tr>\n",
       "      <th>2014-11-01 to 2015-03-31</th>\n",
       "      <td>126</td>\n",
       "      <td>119</td>\n",
       "      <td>118</td>\n",
       "      <td>105</td>\n",
       "      <td>110</td>\n",
       "      <td>110</td>\n",
       "      <td>97</td>\n",
       "      <td>97</td>\n",
       "      <td>91</td>\n",
       "    </tr>\n",
       "    <tr>\n",
       "      <th>2015-11-01 to 2016-03-31</th>\n",
       "      <td>50</td>\n",
       "      <td>50</td>\n",
       "      <td>57</td>\n",
       "      <td>60</td>\n",
       "      <td>52</td>\n",
       "      <td>56</td>\n",
       "      <td>55</td>\n",
       "      <td>55</td>\n",
       "      <td>53</td>\n",
       "    </tr>\n",
       "  </tbody>\n",
       "</table>\n",
       "</div>"
      ],
      "text/plain": [
       "                          count_2d  count_3d  count_4d  count_5d  count_6d  \\\n",
       "2002-11-01 to 2003-03-31        82        76        66        73        71   \n",
       "2003-11-01 to 2004-03-31         1         0         0         1         1   \n",
       "2004-11-01 to 2005-03-31         9         5         9         6         7   \n",
       "2005-11-01 to 2006-03-31        76        65        67        71        75   \n",
       "2006-11-01 to 2007-03-31        35        38        30        39        51   \n",
       "2007-11-01 to 2008-03-31       132       108       126       120       119   \n",
       "2008-11-01 to 2009-03-31        32        35        36        30        27   \n",
       "2009-11-01 to 2010-03-31        46        44        55        45        55   \n",
       "2010-11-01 to 2011-03-31         3         3         1         5         7   \n",
       "2011-11-01 to 2012-03-31        37        36        40        46        45   \n",
       "2012-11-01 to 2013-03-31         0         0         0         0         0   \n",
       "2013-11-01 to 2014-03-31       176       160       169       153       125   \n",
       "2014-11-01 to 2015-03-31       126       119       118       105       110   \n",
       "2015-11-01 to 2016-03-31        50        50        57        60        52   \n",
       "\n",
       "                          count_7d  count_8d  count_8d_DS  count_9d  \n",
       "2002-11-01 to 2003-03-31        63        56           56        58  \n",
       "2003-11-01 to 2004-03-31         0         0            0         1  \n",
       "2004-11-01 to 2005-03-31         6        11           11         9  \n",
       "2005-11-01 to 2006-03-31        72        74           73        66  \n",
       "2006-11-01 to 2007-03-31        40        47           44        44  \n",
       "2007-11-01 to 2008-03-31       122       109          108       129  \n",
       "2008-11-01 to 2009-03-31        28        31           29        28  \n",
       "2009-11-01 to 2010-03-31        58        49           51        50  \n",
       "2010-11-01 to 2011-03-31         6         3            1         5  \n",
       "2011-11-01 to 2012-03-31        44        35           38        32  \n",
       "2012-11-01 to 2013-03-31         0         0            0         0  \n",
       "2013-11-01 to 2014-03-31       118       125          120       106  \n",
       "2014-11-01 to 2015-03-31       110        97           97        91  \n",
       "2015-11-01 to 2016-03-31        56        55           55        53  "
      ]
     },
     "execution_count": 17,
     "metadata": {},
     "output_type": "execute_result"
    }
   ],
   "source": [
    "data_fm= pd.DataFrame(data=data_dict, index = times)\n",
    "data_fm"
   ]
  },
  {
   "cell_type": "code",
   "execution_count": 18,
   "metadata": {
    "collapsed": false
   },
   "outputs": [
    {
     "data": {
      "text/plain": [
       "count_2d       805\n",
       "count_3d       739\n",
       "count_4d       774\n",
       "count_5d       754\n",
       "count_6d       745\n",
       "count_7d       723\n",
       "count_8d       692\n",
       "count_8d_DS    683\n",
       "count_9d       672\n",
       "dtype: int64"
      ]
     },
     "execution_count": 18,
     "metadata": {},
     "output_type": "execute_result"
    }
   ],
   "source": [
    "data_fm.sum(axis=0)   # so the 2d resampling seems to bring us most data points."
   ]
  },
  {
   "cell_type": "code",
   "execution_count": null,
   "metadata": {
    "collapsed": true
   },
   "outputs": [],
   "source": []
  },
  {
   "cell_type": "code",
   "execution_count": null,
   "metadata": {
    "collapsed": true
   },
   "outputs": [],
   "source": []
  }
 ],
 "metadata": {
  "kernelspec": {
   "display_name": "Python 3",
   "language": "python",
   "name": "python3"
  },
  "language_info": {
   "codemirror_mode": {
    "name": "ipython",
    "version": 3
   },
   "file_extension": ".py",
   "mimetype": "text/x-python",
   "name": "python",
   "nbconvert_exporter": "python",
   "pygments_lexer": "ipython3",
   "version": "3.5.2"
  }
 },
 "nbformat": 4,
 "nbformat_minor": 1
}
