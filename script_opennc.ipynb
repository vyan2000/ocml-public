{
 "cells": [
  {
   "cell_type": "code",
   "execution_count": 1,
   "metadata": {
    "collapsed": false
   },
   "outputs": [],
   "source": [
    "# a little script for open multiple netCDF files using xray\n",
    "import numpy as np\n",
    "import pandas as pd\n",
    "import xray as xr\n",
    "from matplotlib import pyplot as plt\n",
    "%matplotlib inline"
   ]
  },
  {
   "cell_type": "code",
   "execution_count": 2,
   "metadata": {
    "collapsed": false
   },
   "outputs": [],
   "source": [
    "#!wget http://oceandata.sci.gsfc.nasa.gov/cgi/getfile/A20110012011008.L3b_8D_CHL.nc\n",
    "import xray\n",
    "da1 = xray.open_dataset('A20110012011008.L3b_8D_CHL.nc', group='level-3_binned_data')"
   ]
  },
  {
   "cell_type": "code",
   "execution_count": 3,
   "metadata": {
    "collapsed": true
   },
   "outputs": [],
   "source": [
    "xr.open_dataset?"
   ]
  },
  {
   "cell_type": "code",
   "execution_count": 4,
   "metadata": {
    "collapsed": false
   },
   "outputs": [
    {
     "data": {
      "text/plain": [
       "Frozen(OrderedDict([('BinList', <xarray.Variable (binListDim: 7654961)>\n",
       "[7654961 values with dtype={'names':['bin_num','nobs','nscenes','weights','time_rec'], 'formats':['<u4','<i2','<i2','<f4','<f4'], 'offsets':[0,4,6,8,12], 'itemsize':16, 'aligned':True}]), ('chlor_a', <xarray.Variable (binDataDim: 7654961)>\n",
       "[7654961 values with dtype={'names':['sum','sum_squared'], 'formats':['<f4','<f4'], 'offsets':[0,4], 'itemsize':8, 'aligned':True}]), ('chl_ocx', <xarray.Variable (binDataDim: 7654961)>\n",
       "[7654961 values with dtype={'names':['sum','sum_squared'], 'formats':['<f4','<f4'], 'offsets':[0,4], 'itemsize':8, 'aligned':True}]), ('BinIndex', <xarray.Variable (binIndexDim: 4320)>\n",
       "array([(1, 0, 0, 3), (4, 0, 0, 9), (13, 0, 0, 16), ...,\n",
       "       (23761649, 0, 0, 16), (23761665, 0, 0, 9), (23761674, 0, 0, 3)], \n",
       "      dtype={'names':['start_num','begin','extent','max'], 'formats':['<u4','<u4','<u4','<u4'], 'offsets':[0,4,8,12], 'itemsize':16, 'aligned':True})), ('binDataDim', <xarray.Coordinate 'binDataDim' (binDataDim: 7654961)>\n",
       "[7654961 values with dtype=int64]), ('binIndexDim', <xarray.Coordinate 'binIndexDim' (binIndexDim: 4320)>\n",
       "array([   0,    1,    2, ..., 4317, 4318, 4319])), ('binListDim', <xarray.Coordinate 'binListDim' (binListDim: 7654961)>\n",
       "[7654961 values with dtype=int64])]))"
      ]
     },
     "execution_count": 4,
     "metadata": {},
     "output_type": "execute_result"
    }
   ],
   "source": [
    "da1.variables"
   ]
  },
  {
   "cell_type": "code",
   "execution_count": 6,
   "metadata": {
    "collapsed": false,
    "scrolled": true
   },
   "outputs": [
    {
     "data": {
      "text/plain": [
       "OrderedDict()"
      ]
     },
     "execution_count": 6,
     "metadata": {},
     "output_type": "execute_result"
    }
   ],
   "source": [
    "da1.attrs"
   ]
  },
  {
   "cell_type": "code",
   "execution_count": 7,
   "metadata": {
    "collapsed": false,
    "scrolled": true
   },
   "outputs": [
    {
     "data": {
      "text/plain": [
       "<bound method ImplementsDatasetReduce._reduce_method.<locals>.wrapped_func of <xarray.Dataset>\n",
       "Dimensions:      (binDataDim: 7654961, binIndexDim: 4320, binListDim: 7654961)\n",
       "Coordinates:\n",
       "  * binDataDim   (binDataDim) int64 0 1 2 3 4 5 6 7 8 9 10 11 12 13 14 15 16 ...\n",
       "  * binIndexDim  (binIndexDim) int64 0 1 2 3 4 5 6 7 8 9 10 11 12 13 14 15 ...\n",
       "  * binListDim   (binListDim) int64 0 1 2 3 4 5 6 7 8 9 10 11 12 13 14 15 16 ...\n",
       "Data variables:\n",
       "    BinList      (binListDim) {'names':['bin_num','nobs','nscenes','weights','time_rec'], 'formats':['<u4','<i2','<i2','<f4','<f4'], 'offsets':[0,4,6,8,12], 'itemsize':16, 'aligned':True} (238575, 6, 1, 2.4494898319244385, 0.0) ...\n",
       "    chlor_a      (binDataDim) {'names':['sum','sum_squared'], 'formats':['<f4','<f4'], 'offsets':[0,4], 'itemsize':8, 'aligned':True} (0.8002867698669434, 0.2616187632083893) ...\n",
       "    chl_ocx      (binDataDim) {'names':['sum','sum_squared'], 'formats':['<f4','<f4'], 'offsets':[0,4], 'itemsize':8, 'aligned':True} (0.8008906245231628, 0.26200050115585327) ...\n",
       "    BinIndex     (binIndexDim) {'names':['start_num','begin','extent','max'], 'formats':['<u4','<u4','<u4','<u4'], 'offsets':[0,4,8,12], 'itemsize':16, 'aligned':True} (1, 0, 0, 3) ...>"
      ]
     },
     "execution_count": 7,
     "metadata": {},
     "output_type": "execute_result"
    }
   ],
   "source": [
    "da1.var"
   ]
  },
  {
   "cell_type": "code",
   "execution_count": 8,
   "metadata": {
    "collapsed": false
   },
   "outputs": [
    {
     "name": "stdout",
     "output_type": "stream",
     "text": [
      "<xarray.Dataset>\n",
      "Dimensions:      (binDataDim: 7654961, binIndexDim: 4320, binListDim: 7654961)\n",
      "Coordinates:\n",
      "  * binDataDim   (binDataDim) int64 0 1 2 3 4 5 6 7 8 9 10 11 12 13 14 15 16 ...\n",
      "  * binIndexDim  (binIndexDim) int64 0 1 2 3 4 5 6 7 8 9 10 11 12 13 14 15 ...\n",
      "  * binListDim   (binListDim) int64 0 1 2 3 4 5 6 7 8 9 10 11 12 13 14 15 16 ...\n",
      "Data variables:\n",
      "    BinList      (binListDim) {'names':['bin_num','nobs','nscenes','weights','time_rec'], 'formats':['<u4','<i2','<i2','<f4','<f4'], 'offsets':[0,4,6,8,12], 'itemsize':16, 'aligned':True} (238575, 6, 1, 2.4494898319244385, 0.0) ...\n",
      "    chlor_a      (binDataDim) {'names':['sum','sum_squared'], 'formats':['<f4','<f4'], 'offsets':[0,4], 'itemsize':8, 'aligned':True} (0.8002867698669434, 0.2616187632083893) ...\n",
      "    chl_ocx      (binDataDim) {'names':['sum','sum_squared'], 'formats':['<f4','<f4'], 'offsets':[0,4], 'itemsize':8, 'aligned':True} (0.8008906245231628, 0.26200050115585327) ...\n",
      "    BinIndex     (binIndexDim) {'names':['start_num','begin','extent','max'], 'formats':['<u4','<u4','<u4','<u4'], 'offsets':[0,4,8,12], 'itemsize':16, 'aligned':True} (1, 0, 0, 3) ...\n"
     ]
    }
   ],
   "source": [
    "print(da1)"
   ]
  },
  {
   "cell_type": "code",
   "execution_count": 9,
   "metadata": {
    "collapsed": false
   },
   "outputs": [
    {
     "data": {
      "text/plain": [
       "<xarray.DataArray 'BinIndex' (binIndexDim: 5)>\n",
       "array([(23761599, 0, 0, 28), (23761627, 0, 0, 22), (23761649, 0, 0, 16),\n",
       "       (23761665, 0, 0, 9), (23761674, 0, 0, 3)], \n",
       "      dtype={'names':['start_num','begin','extent','max'], 'formats':['<u4','<u4','<u4','<u4'], 'offsets':[0,4,8,12], 'itemsize':16, 'aligned':True})\n",
       "Coordinates:\n",
       "  * binIndexDim  (binIndexDim) int64 4315 4316 4317 4318 4319"
      ]
     },
     "execution_count": 9,
     "metadata": {},
     "output_type": "execute_result"
    }
   ],
   "source": [
    "da1.BinIndex[-5:]"
   ]
  },
  {
   "cell_type": "code",
   "execution_count": 10,
   "metadata": {
    "collapsed": false
   },
   "outputs": [
    {
     "data": {
      "text/plain": [
       "<xarray.DataArray 'BinList' (binListDim: 5)>\n",
       "array([(20652298, 7, 1, 2.6457512378692627, 0.0),\n",
       "       (20652299, 8, 1, 2.8284270763397217, 0.0),\n",
       "       (20652300, 10, 1, 3.1622776985168457, 0.0),\n",
       "       (20652301, 7, 1, 2.6457512378692627, 0.0),\n",
       "       (20652302, 3, 1, 1.7320507764816284, 0.0)], \n",
       "      dtype={'names':['bin_num','nobs','nscenes','weights','time_rec'], 'formats':['<u4','<i2','<i2','<f4','<f4'], 'offsets':[0,4,6,8,12], 'itemsize':16, 'aligned':True})\n",
       "Coordinates:\n",
       "  * binListDim  (binListDim) int64 7654956 7654957 7654958 7654959 7654960"
      ]
     },
     "execution_count": 10,
     "metadata": {},
     "output_type": "execute_result"
    }
   ],
   "source": [
    "da1.BinList[-5:]"
   ]
  },
  {
   "cell_type": "code",
   "execution_count": 32,
   "metadata": {
    "collapsed": false
   },
   "outputs": [
    {
     "data": {
      "text/plain": [
       "0.3750224010276303"
      ]
     },
     "execution_count": 32,
     "metadata": {},
     "output_type": "execute_result"
    }
   ],
   "source": [
    "7654961/ (20652302 - 240292)   == 0.3750224010276303\n",
    "#[Note]\n",
    "# There are lots of missing data has been excluded from the dataset\n",
    "# so there is going to be a lot of missing bin numbers!\n",
    "\n",
    "############################################\n",
    "# roughly is the percent of \":percent_data_bins = 32.21558f \"\n",
    "# this info : \"percent_data_bins = 32.21558f\"\n",
    "# can be seen by da1 = xr.open_dataset('A20110012011008.L3b_8D_CHL.nc')\n",
    "#               da1.variabel\n",
    "\n",
    "# or can be seen by directly using the ncdump command from netCDF4\n",
    "\n",
    "###########################################\n",
    "# the  binListDim= 7654961   # number of total bins(has data) contained in this netcdf file\n",
    "# this can be seen: \n",
    "# da1 = xr.open_dataset('A20110012011008.L3b_8D_CHL.nc', group='level-3_binned_data')\n",
    "# da1.var  # \n",
    "# \n",
    "\n",
    "##########################################\n",
    "# us the following:\n",
    "# da1.BinList[5:]\n",
    "# da1.BinList[-5:]\n",
    "# one can see that the bin numbers at least run from 240,292 to 20,652,302\n",
    "7654961/ (20652302 - 240292) == 0.3750224010276303\n",
    "\n",
    "#########################################\n",
    "# use the web: Integerized Sinusoidal Binning Scheme for Level 3 Data\n",
    "# for resolution of 4.64 km, there are 4320 latitudinal rows, this agrees with \n",
    "# binIndexDim: 4320,\n",
    "# From the table on the same doc, there are totally 23,761,676 bins\n",
    "# \n",
    "# From da1 we know:\n",
    "# binDataDim (or binListDim) is 7654961\n",
    "\n",
    "#######\n",
    "# so the theretical non-empty data ration is: 7654961/23761676 = 0.3221557688102472\n",
    "# matches: percent_data_bins = 32.21558f\n"
   ]
  },
  {
   "cell_type": "code",
   "execution_count": null,
   "metadata": {
    "collapsed": false
   },
   "outputs": [],
   "source": []
  },
  {
   "cell_type": "code",
   "execution_count": 14,
   "metadata": {
    "collapsed": true
   },
   "outputs": [],
   "source": [
    "############## let's try to use python module netCDF4"
   ]
  },
  {
   "cell_type": "code",
   "execution_count": null,
   "metadata": {
    "collapsed": true
   },
   "outputs": [],
   "source": []
  },
  {
   "cell_type": "code",
   "execution_count": 9,
   "metadata": {
    "collapsed": true
   },
   "outputs": [],
   "source": [
    "#from netCDF4 import Dataset\n",
    "\n",
    "#da1_netcdf = Dataset('A20110012011008.L3b_8D_CHL.nc')\n",
    "#da1_netcdf.variables\n",
    "#da1_netcdf.ncattrs()"
   ]
  },
  {
   "cell_type": "code",
   "execution_count": 11,
   "metadata": {
    "collapsed": false
   },
   "outputs": [
    {
     "data": {
      "text/plain": [
       "'0.17.1'"
      ]
     },
     "execution_count": 11,
     "metadata": {},
     "output_type": "execute_result"
    }
   ],
   "source": [
    "pd.__version__"
   ]
  },
  {
   "cell_type": "code",
   "execution_count": null,
   "metadata": {
    "collapsed": false
   },
   "outputs": [],
   "source": [
    "# Try the level 2 data\n",
    "# http://oceandata.sci.gsfc.nasa.gov/cgi/getfile/T2011001053500.L2_LAC_SST.nc\n",
    "#l2_xray = xr.open_dataset('T2011001053500.L2_LAC_SST.nc')\n",
    "#l2_xray.variables\n",
    "#l2_xray.var"
   ]
  },
  {
   "cell_type": "code",
   "execution_count": null,
   "metadata": {
    "collapsed": false
   },
   "outputs": [],
   "source": [
    "### Now let's explore xarray a little bit"
   ]
  },
  {
   "cell_type": "code",
   "execution_count": 26,
   "metadata": {
    "collapsed": true
   },
   "outputs": [],
   "source": [
    "### Now let's try to open two files in xarray"
   ]
  },
  {
   "cell_type": "code",
   "execution_count": 16,
   "metadata": {
    "collapsed": false
   },
   "outputs": [],
   "source": [
    "# Let's try smi mapped data\n",
    "da1_smi = xr.open_dataset('A20110012011008.L3m_8D_CHL_chlor_a_4km.nc')"
   ]
  },
  {
   "cell_type": "code",
   "execution_count": 15,
   "metadata": {
    "collapsed": false
   },
   "outputs": [
    {
     "data": {
      "text/plain": [
       "<bound method ImplementsDatasetReduce._reduce_method.<locals>.wrapped_func of <xray.Dataset>\n",
       "Dimensions:        (eightbitcolor: 256, lat: 4320, lon: 8640, rgb: 3)\n",
       "Coordinates:\n",
       "  * lat            (lat) float64 89.98 89.94 89.9 89.85 89.81 89.77 89.73 ...\n",
       "  * lon            (lon) float64 -180.0 -179.9 -179.9 -179.9 -179.8 -179.8 ...\n",
       "  * eightbitcolor  (eightbitcolor) int64 0 1 2 3 4 5 6 7 8 9 10 11 12 13 14 ...\n",
       "  * rgb            (rgb) int64 0 1 2\n",
       "Data variables:\n",
       "    chlor_a        (lat, lon) float64 nan nan nan nan nan nan nan nan nan ...\n",
       "    palette        (rgb, eightbitcolor) uint8 147 0 108 144 0 111 141 0 114 ...\n",
       "Attributes:\n",
       "    product_name: A20110012011008.L3m_8D_CHL_chlor_a_4km.nc\n",
       "    instrument: MODIS\n",
       "    title: MODIS Level-3 Standard Mapped Image\n",
       "    project: Ocean Biology Processing Group (NASA/GSFC/OBPG)\n",
       "    platform: Aqua\n",
       "    temporal_range: 8-day\n",
       "    processing_version: 2014.0\n",
       "    date_created: 2015-06-26T02:48:06.000Z\n",
       "    history: smigen par=A20110012011008.L3m_8D_CHL_chlor_a_4km.nc.param\n",
       "    l2_flag_names: ATMFAIL,LAND,HILT,HISATZEN,STRAYLIGHT,CLDICE,COCCOLITH,LOWLW,CHLWARN,CHLFAIL,NAVWARN,MAXAERITER,ATMWARN,HISOLZEN,NAVFAIL,FILTER,HIGLINT\n",
       "    time_coverage_start: 2010-12-31T22:25:08.000Z\n",
       "    time_coverage_end: 2011-01-09T02:45:07.000Z\n",
       "    start_orbit_number: 46073\n",
       "    end_orbit_number: 46190\n",
       "    map_projection: Equidistant Cylindrical\n",
       "    latitude_units: degrees_north\n",
       "    longitude_units: degrees_east\n",
       "    northernmost_latitude: 90.0\n",
       "    southernmost_latitude: -90.0\n",
       "    westernmost_longitude: -180.0\n",
       "    easternmost_longitude: 180.0\n",
       "    geospatial_lat_max: 90.0\n",
       "    geospatial_lat_min: -90.0\n",
       "    geospatial_lon_max: 180.0\n",
       "    geospatial_lon_min: -180.0\n",
       "    grid_mapping_name: latitude_longitude\n",
       "    latitude_step: 0.0416667\n",
       "    longitude_step: 0.0416667\n",
       "    sw_point_latitude: -89.9792\n",
       "    sw_point_longitude: -179.979\n",
       "    geospatial_lon_resolution: 4.6\n",
       "    geospatial_lat_resolution: 4.6\n",
       "    geospatial_lat_units: km\n",
       "    geospatial_lon_units: km\n",
       "    spatialResolution: 4.60 km\n",
       "    data_bins: 9257413\n",
       "    number_of_lines: 4320\n",
       "    number_of_columns: 8640\n",
       "    measure: Mean\n",
       "    data_minimum: 0.006505\n",
       "    data_maximum: 99.9425\n",
       "    suggested_image_scaling_minimum: 0.01\n",
       "    suggested_image_scaling_maximum: 20.0\n",
       "    suggested_image_scaling_type: LOG\n",
       "    suggested_image_scaling_applied: No\n",
       "    _lastModified: 2015-06-26T02:48:06.000Z\n",
       "    Conventions: CF-1.6\n",
       "    institution: NASA Goddard Space Flight Center, Ocean Ecology Laboratory, Ocean Biology Processing Group\n",
       "    standard_name_vocabulary: NetCDF Climate and Forecast (CF) Metadata Convention\n",
       "    Metadata_Conventions: Unidata Dataset Discovery v1.0\n",
       "    naming_authority: gov.nasa.gsfc.sci.oceandata\n",
       "    id: A20110012011008.L3b_8D_CHL.nc/L3/A20110012011008.L3b_8D_CHL.nc\n",
       "    license: http://science.nasa.gov/earth-science/earth-science-data/data-information-policy/\n",
       "    creator_name: NASA/GSFC/OBPG\n",
       "    publisher_name: NASA/GSFC/OBPG\n",
       "    creator_email: data@oceancolor.gsfc.nasa.gov\n",
       "    publisher_email: data@oceancolor.gsfc.nasa.gov\n",
       "    creator_url: http://oceandata.sci.gsfc.nasa.gov\n",
       "    publisher_url: http://oceandata.sci.gsfc.nasa.gov\n",
       "    processing_level: L3 Mapped\n",
       "    cdm_data_type: grid\n",
       "    identifier_product_doi_authority: http://dx.doi.org\n",
       "    identifier_product_doi: 10.5067/AQUA/MODIS_OC.2014.0\n",
       "    keywords: Oceans > Ocean Chemistry > Chlorophyll; Oceans > Ocean Optics > Ocean Color\n",
       "    keywords_vocabulary: NASA Global Change Master Directory (GCMD) Science Keywords>"
      ]
     },
     "execution_count": 15,
     "metadata": {},
     "output_type": "execute_result"
    }
   ],
   "source": [
    "da1_smi.var"
   ]
  },
  {
   "cell_type": "code",
   "execution_count": 11,
   "metadata": {
    "collapsed": false
   },
   "outputs": [],
   "source": []
  },
  {
   "cell_type": "code",
   "execution_count": 17,
   "metadata": {
    "collapsed": false
   },
   "outputs": [
    {
     "ename": "ValueError",
     "evalue": "cannot broadcast shape (7654961,) to shape (1, 7680932)",
     "output_type": "error",
     "traceback": [
      "\u001b[0;31m---------------------------------------------------------------------------\u001b[0m",
      "\u001b[0;31mValueError\u001b[0m                                Traceback (most recent call last)",
      "\u001b[0;32m<ipython-input-17-9a35e60a8f03>\u001b[0m in \u001b[0;36m<module>\u001b[0;34m()\u001b[0m\n\u001b[1;32m      2\u001b[0m \u001b[0;31m# http://xarray.pydata.org/en/stable/io.html\u001b[0m\u001b[0;34m\u001b[0m\u001b[0;34m\u001b[0m\u001b[0m\n\u001b[1;32m      3\u001b[0m \u001b[0;34m\u001b[0m\u001b[0m\n\u001b[0;32m----> 4\u001b[0;31m \u001b[0mxr\u001b[0m\u001b[0;34m.\u001b[0m\u001b[0mopen_mfdataset\u001b[0m\u001b[0;34m(\u001b[0m\u001b[0;34m'A*.nc'\u001b[0m\u001b[0;34m,\u001b[0m \u001b[0mconcat_dim\u001b[0m\u001b[0;34m=\u001b[0m\u001b[0;34m[\u001b[0m\u001b[0;34m'binDataDim'\u001b[0m\u001b[0;34m,\u001b[0m \u001b[0;34m'binIndexDim'\u001b[0m\u001b[0;34m,\u001b[0m \u001b[0;34m'binListDim'\u001b[0m\u001b[0;34m]\u001b[0m\u001b[0;34m,\u001b[0m \u001b[0mgroup\u001b[0m\u001b[0;34m=\u001b[0m\u001b[0;34m'level-3_binned_data'\u001b[0m\u001b[0;34m)\u001b[0m\u001b[0;34m\u001b[0m\u001b[0m\n\u001b[0m",
      "\u001b[0;32m/Users/vyan2000/local/miniconda3/envs/condapython3/lib/python3.5/site-packages/xarray/backends/api.py\u001b[0m in \u001b[0;36mopen_mfdataset\u001b[0;34m(paths, chunks, concat_dim, preprocess, engine, lock, **kwargs)\u001b[0m\n\u001b[1;32m    303\u001b[0m         \u001b[0mdatasets\u001b[0m \u001b[0;34m=\u001b[0m \u001b[0;34m[\u001b[0m\u001b[0mpreprocess\u001b[0m\u001b[0;34m(\u001b[0m\u001b[0mds\u001b[0m\u001b[0;34m)\u001b[0m \u001b[0;32mfor\u001b[0m \u001b[0mds\u001b[0m \u001b[0;32min\u001b[0m \u001b[0mdatasets\u001b[0m\u001b[0;34m]\u001b[0m\u001b[0;34m\u001b[0m\u001b[0m\n\u001b[1;32m    304\u001b[0m \u001b[0;34m\u001b[0m\u001b[0m\n\u001b[0;32m--> 305\u001b[0;31m     \u001b[0mcombined\u001b[0m \u001b[0;34m=\u001b[0m \u001b[0mauto_combine\u001b[0m\u001b[0;34m(\u001b[0m\u001b[0mdatasets\u001b[0m\u001b[0;34m,\u001b[0m \u001b[0mconcat_dim\u001b[0m\u001b[0;34m=\u001b[0m\u001b[0mconcat_dim\u001b[0m\u001b[0;34m)\u001b[0m\u001b[0;34m\u001b[0m\u001b[0m\n\u001b[0m\u001b[1;32m    306\u001b[0m     \u001b[0mcombined\u001b[0m\u001b[0;34m.\u001b[0m\u001b[0m_file_obj\u001b[0m \u001b[0;34m=\u001b[0m \u001b[0m_MultiFileCloser\u001b[0m\u001b[0;34m(\u001b[0m\u001b[0mfile_objs\u001b[0m\u001b[0;34m)\u001b[0m\u001b[0;34m\u001b[0m\u001b[0m\n\u001b[1;32m    307\u001b[0m     \u001b[0;32mreturn\u001b[0m \u001b[0mcombined\u001b[0m\u001b[0;34m\u001b[0m\u001b[0m\n",
      "\u001b[0;32m/Users/vyan2000/local/miniconda3/envs/condapython3/lib/python3.5/site-packages/xarray/core/combine.py\u001b[0m in \u001b[0;36mauto_combine\u001b[0;34m(datasets, concat_dim)\u001b[0m\n\u001b[1;32m    374\u001b[0m     grouped = itertoolz.groupby(lambda ds: tuple(sorted(ds.data_vars)),\n\u001b[1;32m    375\u001b[0m                                 datasets).values()\n\u001b[0;32m--> 376\u001b[0;31m     \u001b[0mconcatenated\u001b[0m \u001b[0;34m=\u001b[0m \u001b[0;34m[\u001b[0m\u001b[0m_auto_concat\u001b[0m\u001b[0;34m(\u001b[0m\u001b[0mds\u001b[0m\u001b[0;34m,\u001b[0m \u001b[0mdim\u001b[0m\u001b[0;34m=\u001b[0m\u001b[0mconcat_dim\u001b[0m\u001b[0;34m)\u001b[0m \u001b[0;32mfor\u001b[0m \u001b[0mds\u001b[0m \u001b[0;32min\u001b[0m \u001b[0mgrouped\u001b[0m\u001b[0;34m]\u001b[0m\u001b[0;34m\u001b[0m\u001b[0m\n\u001b[0m\u001b[1;32m    377\u001b[0m     \u001b[0mmerged\u001b[0m \u001b[0;34m=\u001b[0m \u001b[0mreduce\u001b[0m\u001b[0;34m(\u001b[0m\u001b[0;32mlambda\u001b[0m \u001b[0mds\u001b[0m\u001b[0;34m,\u001b[0m \u001b[0mother\u001b[0m\u001b[0;34m:\u001b[0m \u001b[0mds\u001b[0m\u001b[0;34m.\u001b[0m\u001b[0mmerge\u001b[0m\u001b[0;34m(\u001b[0m\u001b[0mother\u001b[0m\u001b[0;34m)\u001b[0m\u001b[0;34m,\u001b[0m \u001b[0mconcatenated\u001b[0m\u001b[0;34m)\u001b[0m\u001b[0;34m\u001b[0m\u001b[0m\n\u001b[1;32m    378\u001b[0m     \u001b[0;32mreturn\u001b[0m \u001b[0mmerged\u001b[0m\u001b[0;34m\u001b[0m\u001b[0m\n",
      "\u001b[0;32m/Users/vyan2000/local/miniconda3/envs/condapython3/lib/python3.5/site-packages/xarray/core/combine.py\u001b[0m in \u001b[0;36m<listcomp>\u001b[0;34m(.0)\u001b[0m\n\u001b[1;32m    374\u001b[0m     grouped = itertoolz.groupby(lambda ds: tuple(sorted(ds.data_vars)),\n\u001b[1;32m    375\u001b[0m                                 datasets).values()\n\u001b[0;32m--> 376\u001b[0;31m     \u001b[0mconcatenated\u001b[0m \u001b[0;34m=\u001b[0m \u001b[0;34m[\u001b[0m\u001b[0m_auto_concat\u001b[0m\u001b[0;34m(\u001b[0m\u001b[0mds\u001b[0m\u001b[0;34m,\u001b[0m \u001b[0mdim\u001b[0m\u001b[0;34m=\u001b[0m\u001b[0mconcat_dim\u001b[0m\u001b[0;34m)\u001b[0m \u001b[0;32mfor\u001b[0m \u001b[0mds\u001b[0m \u001b[0;32min\u001b[0m \u001b[0mgrouped\u001b[0m\u001b[0;34m]\u001b[0m\u001b[0;34m\u001b[0m\u001b[0m\n\u001b[0m\u001b[1;32m    377\u001b[0m     \u001b[0mmerged\u001b[0m \u001b[0;34m=\u001b[0m \u001b[0mreduce\u001b[0m\u001b[0;34m(\u001b[0m\u001b[0;32mlambda\u001b[0m \u001b[0mds\u001b[0m\u001b[0;34m,\u001b[0m \u001b[0mother\u001b[0m\u001b[0;34m:\u001b[0m \u001b[0mds\u001b[0m\u001b[0;34m.\u001b[0m\u001b[0mmerge\u001b[0m\u001b[0;34m(\u001b[0m\u001b[0mother\u001b[0m\u001b[0;34m)\u001b[0m\u001b[0;34m,\u001b[0m \u001b[0mconcatenated\u001b[0m\u001b[0;34m)\u001b[0m\u001b[0;34m\u001b[0m\u001b[0m\n\u001b[1;32m    378\u001b[0m     \u001b[0;32mreturn\u001b[0m \u001b[0mmerged\u001b[0m\u001b[0;34m\u001b[0m\u001b[0m\n",
      "\u001b[0;32m/Users/vyan2000/local/miniconda3/envs/condapython3/lib/python3.5/site-packages/xarray/core/combine.py\u001b[0m in \u001b[0;36m_auto_concat\u001b[0;34m(datasets, dim)\u001b[0m\n\u001b[1;32m    325\u001b[0m                                  'explicitly')\n\u001b[1;32m    326\u001b[0m             \u001b[0mdim\u001b[0m\u001b[0;34m,\u001b[0m \u001b[0;34m=\u001b[0m \u001b[0mconcat_dims\u001b[0m\u001b[0;34m\u001b[0m\u001b[0m\n\u001b[0;32m--> 327\u001b[0;31m         \u001b[0;32mreturn\u001b[0m \u001b[0mconcat\u001b[0m\u001b[0;34m(\u001b[0m\u001b[0mdatasets\u001b[0m\u001b[0;34m,\u001b[0m \u001b[0mdim\u001b[0m\u001b[0;34m=\u001b[0m\u001b[0mdim\u001b[0m\u001b[0;34m)\u001b[0m\u001b[0;34m\u001b[0m\u001b[0m\n\u001b[0m\u001b[1;32m    328\u001b[0m \u001b[0;34m\u001b[0m\u001b[0m\n\u001b[1;32m    329\u001b[0m \u001b[0;34m\u001b[0m\u001b[0m\n",
      "\u001b[0;32m/Users/vyan2000/local/miniconda3/envs/condapython3/lib/python3.5/site-packages/xarray/core/combine.py\u001b[0m in \u001b[0;36mconcat\u001b[0;34m(objs, dim, data_vars, coords, compat, positions, indexers, mode, concat_over)\u001b[0m\n\u001b[1;32m    112\u001b[0m         raise TypeError('can only concatenate xarray Dataset and DataArray '\n\u001b[1;32m    113\u001b[0m                         'objects')\n\u001b[0;32m--> 114\u001b[0;31m     \u001b[0;32mreturn\u001b[0m \u001b[0mf\u001b[0m\u001b[0;34m(\u001b[0m\u001b[0mobjs\u001b[0m\u001b[0;34m,\u001b[0m \u001b[0mdim\u001b[0m\u001b[0;34m,\u001b[0m \u001b[0mdata_vars\u001b[0m\u001b[0;34m,\u001b[0m \u001b[0mcoords\u001b[0m\u001b[0;34m,\u001b[0m \u001b[0mcompat\u001b[0m\u001b[0;34m,\u001b[0m \u001b[0mpositions\u001b[0m\u001b[0;34m)\u001b[0m\u001b[0;34m\u001b[0m\u001b[0m\n\u001b[0m\u001b[1;32m    115\u001b[0m \u001b[0;34m\u001b[0m\u001b[0m\n\u001b[1;32m    116\u001b[0m \u001b[0;34m\u001b[0m\u001b[0m\n",
      "\u001b[0;32m/Users/vyan2000/local/miniconda3/envs/condapython3/lib/python3.5/site-packages/xarray/core/combine.py\u001b[0m in \u001b[0;36m_dataset_concat\u001b[0;34m(datasets, dim, data_vars, coords, compat, positions)\u001b[0m\n\u001b[1;32m    266\u001b[0m     \u001b[0;32mfor\u001b[0m \u001b[0mk\u001b[0m \u001b[0;32min\u001b[0m \u001b[0mconcat_over\u001b[0m\u001b[0;34m:\u001b[0m\u001b[0;34m\u001b[0m\u001b[0m\n\u001b[1;32m    267\u001b[0m         \u001b[0mvars\u001b[0m \u001b[0;34m=\u001b[0m \u001b[0mensure_common_dims\u001b[0m\u001b[0;34m(\u001b[0m\u001b[0;34m[\u001b[0m\u001b[0mds\u001b[0m\u001b[0;34m.\u001b[0m\u001b[0mvariables\u001b[0m\u001b[0;34m[\u001b[0m\u001b[0mk\u001b[0m\u001b[0;34m]\u001b[0m \u001b[0;32mfor\u001b[0m \u001b[0mds\u001b[0m \u001b[0;32min\u001b[0m \u001b[0mdatasets\u001b[0m\u001b[0;34m]\u001b[0m\u001b[0;34m)\u001b[0m\u001b[0;34m\u001b[0m\u001b[0m\n\u001b[0;32m--> 268\u001b[0;31m         \u001b[0mcombined\u001b[0m \u001b[0;34m=\u001b[0m \u001b[0mVariable\u001b[0m\u001b[0;34m.\u001b[0m\u001b[0mconcat\u001b[0m\u001b[0;34m(\u001b[0m\u001b[0mvars\u001b[0m\u001b[0;34m,\u001b[0m \u001b[0mdim\u001b[0m\u001b[0;34m,\u001b[0m \u001b[0mpositions\u001b[0m\u001b[0;34m)\u001b[0m\u001b[0;34m\u001b[0m\u001b[0m\n\u001b[0m\u001b[1;32m    269\u001b[0m         \u001b[0minsert_result_variable\u001b[0m\u001b[0;34m(\u001b[0m\u001b[0mk\u001b[0m\u001b[0;34m,\u001b[0m \u001b[0mcombined\u001b[0m\u001b[0;34m)\u001b[0m\u001b[0;34m\u001b[0m\u001b[0m\n\u001b[1;32m    270\u001b[0m \u001b[0;34m\u001b[0m\u001b[0m\n",
      "\u001b[0;32m/Users/vyan2000/local/miniconda3/envs/condapython3/lib/python3.5/site-packages/xarray/core/variable.py\u001b[0m in \u001b[0;36mconcat\u001b[0;34m(cls, variables, dim, positions, shortcut)\u001b[0m\n\u001b[1;32m    915\u001b[0m         \u001b[0;31m# can't do this lazily: we need to loop through variables at least\u001b[0m\u001b[0;34m\u001b[0m\u001b[0;34m\u001b[0m\u001b[0m\n\u001b[1;32m    916\u001b[0m         \u001b[0;31m# twice\u001b[0m\u001b[0;34m\u001b[0m\u001b[0;34m\u001b[0m\u001b[0m\n\u001b[0;32m--> 917\u001b[0;31m         \u001b[0mvariables\u001b[0m \u001b[0;34m=\u001b[0m \u001b[0mlist\u001b[0m\u001b[0;34m(\u001b[0m\u001b[0mvariables\u001b[0m\u001b[0;34m)\u001b[0m\u001b[0;34m\u001b[0m\u001b[0m\n\u001b[0m\u001b[1;32m    918\u001b[0m         \u001b[0mfirst_var\u001b[0m \u001b[0;34m=\u001b[0m \u001b[0mvariables\u001b[0m\u001b[0;34m[\u001b[0m\u001b[0;36m0\u001b[0m\u001b[0;34m]\u001b[0m\u001b[0;34m\u001b[0m\u001b[0m\n\u001b[1;32m    919\u001b[0m \u001b[0;34m\u001b[0m\u001b[0m\n",
      "\u001b[0;32m/Users/vyan2000/local/miniconda3/envs/condapython3/lib/python3.5/site-packages/xarray/core/combine.py\u001b[0m in \u001b[0;36mensure_common_dims\u001b[0;34m(vars)\u001b[0m\n\u001b[1;32m    260\u001b[0m                 common_shape = tuple(non_concat_dims.get(d, dim_len)\n\u001b[1;32m    261\u001b[0m                                      for d in common_dims)\n\u001b[0;32m--> 262\u001b[0;31m                 \u001b[0mvar\u001b[0m \u001b[0;34m=\u001b[0m \u001b[0mvar\u001b[0m\u001b[0;34m.\u001b[0m\u001b[0mexpand_dims\u001b[0m\u001b[0;34m(\u001b[0m\u001b[0mcommon_dims\u001b[0m\u001b[0;34m,\u001b[0m \u001b[0mcommon_shape\u001b[0m\u001b[0;34m)\u001b[0m\u001b[0;34m\u001b[0m\u001b[0m\n\u001b[0m\u001b[1;32m    263\u001b[0m             \u001b[0;32myield\u001b[0m \u001b[0mvar\u001b[0m\u001b[0;34m\u001b[0m\u001b[0m\n\u001b[1;32m    264\u001b[0m \u001b[0;34m\u001b[0m\u001b[0m\n",
      "\u001b[0;32m/Users/vyan2000/local/miniconda3/envs/condapython3/lib/python3.5/site-packages/xarray/core/variable.py\u001b[0m in \u001b[0;36mexpand_dims\u001b[0;34m(self, dims, shape)\u001b[0m\n\u001b[1;32m    713\u001b[0m             \u001b[0mdims_map\u001b[0m \u001b[0;34m=\u001b[0m \u001b[0mdict\u001b[0m\u001b[0;34m(\u001b[0m\u001b[0mzip\u001b[0m\u001b[0;34m(\u001b[0m\u001b[0mdims\u001b[0m\u001b[0;34m,\u001b[0m \u001b[0mshape\u001b[0m\u001b[0;34m)\u001b[0m\u001b[0;34m)\u001b[0m\u001b[0;34m\u001b[0m\u001b[0m\n\u001b[1;32m    714\u001b[0m             \u001b[0mtmp_shape\u001b[0m \u001b[0;34m=\u001b[0m \u001b[0;34m[\u001b[0m\u001b[0mdims_map\u001b[0m\u001b[0;34m[\u001b[0m\u001b[0md\u001b[0m\u001b[0;34m]\u001b[0m \u001b[0;32mfor\u001b[0m \u001b[0md\u001b[0m \u001b[0;32min\u001b[0m \u001b[0mexpanded_dims\u001b[0m\u001b[0;34m]\u001b[0m\u001b[0;34m\u001b[0m\u001b[0m\n\u001b[0;32m--> 715\u001b[0;31m             \u001b[0mexpanded_data\u001b[0m \u001b[0;34m=\u001b[0m \u001b[0mops\u001b[0m\u001b[0;34m.\u001b[0m\u001b[0mbroadcast_to\u001b[0m\u001b[0;34m(\u001b[0m\u001b[0mself\u001b[0m\u001b[0;34m.\u001b[0m\u001b[0mdata\u001b[0m\u001b[0;34m,\u001b[0m \u001b[0mtmp_shape\u001b[0m\u001b[0;34m)\u001b[0m\u001b[0;34m\u001b[0m\u001b[0m\n\u001b[0m\u001b[1;32m    716\u001b[0m         \u001b[0;32melse\u001b[0m\u001b[0;34m:\u001b[0m\u001b[0;34m\u001b[0m\u001b[0m\n\u001b[1;32m    717\u001b[0m             expanded_data = self.data[\n",
      "\u001b[0;32m/Users/vyan2000/local/miniconda3/envs/condapython3/lib/python3.5/site-packages/xarray/core/ops.py\u001b[0m in \u001b[0;36mf\u001b[0;34m(*args, **kwargs)\u001b[0m\n\u001b[1;32m     60\u001b[0m             \u001b[0;32melse\u001b[0m\u001b[0;34m:\u001b[0m\u001b[0;34m\u001b[0m\u001b[0m\n\u001b[1;32m     61\u001b[0m                 \u001b[0mmodule\u001b[0m \u001b[0;34m=\u001b[0m \u001b[0meager_module\u001b[0m\u001b[0;34m\u001b[0m\u001b[0m\n\u001b[0;32m---> 62\u001b[0;31m             \u001b[0;32mreturn\u001b[0m \u001b[0mgetattr\u001b[0m\u001b[0;34m(\u001b[0m\u001b[0mmodule\u001b[0m\u001b[0;34m,\u001b[0m \u001b[0mname\u001b[0m\u001b[0;34m)\u001b[0m\u001b[0;34m(\u001b[0m\u001b[0;34m*\u001b[0m\u001b[0margs\u001b[0m\u001b[0;34m,\u001b[0m \u001b[0;34m**\u001b[0m\u001b[0mkwargs\u001b[0m\u001b[0;34m)\u001b[0m\u001b[0;34m\u001b[0m\u001b[0m\n\u001b[0m\u001b[1;32m     63\u001b[0m     \u001b[0;32melse\u001b[0m\u001b[0;34m:\u001b[0m\u001b[0;34m\u001b[0m\u001b[0m\n\u001b[1;32m     64\u001b[0m         \u001b[0;32mdef\u001b[0m \u001b[0mf\u001b[0m\u001b[0;34m(\u001b[0m\u001b[0mdata\u001b[0m\u001b[0;34m,\u001b[0m \u001b[0;34m*\u001b[0m\u001b[0margs\u001b[0m\u001b[0;34m,\u001b[0m \u001b[0;34m**\u001b[0m\u001b[0mkwargs\u001b[0m\u001b[0;34m)\u001b[0m\u001b[0;34m:\u001b[0m\u001b[0;34m\u001b[0m\u001b[0m\n",
      "\u001b[0;32m/Users/vyan2000/local/miniconda3/envs/condapython3/lib/python3.5/site-packages/dask/array/core.py\u001b[0m in \u001b[0;36mbroadcast_to\u001b[0;34m(x, shape)\u001b[0m\n\u001b[1;32m   2417\u001b[0m                            if old != 1):\n\u001b[1;32m   2418\u001b[0m         raise ValueError('cannot broadcast shape %s to shape %s'\n\u001b[0;32m-> 2419\u001b[0;31m                          % (x.shape, shape))\n\u001b[0m\u001b[1;32m   2420\u001b[0m \u001b[0;34m\u001b[0m\u001b[0m\n\u001b[1;32m   2421\u001b[0m     \u001b[0mname\u001b[0m \u001b[0;34m=\u001b[0m \u001b[0;34m'broadcast_to-'\u001b[0m \u001b[0;34m+\u001b[0m \u001b[0mtokenize\u001b[0m\u001b[0;34m(\u001b[0m\u001b[0mx\u001b[0m\u001b[0;34m,\u001b[0m \u001b[0mshape\u001b[0m\u001b[0;34m)\u001b[0m\u001b[0;34m\u001b[0m\u001b[0m\n",
      "\u001b[0;31mValueError\u001b[0m: cannot broadcast shape (7654961,) to shape (1, 7680932)"
     ]
    }
   ],
   "source": [
    "### Let's try to open multiple files in xarray (dask is required)\n",
    "# http://xarray.pydata.org/en/stable/io.html\n",
    "\n",
    "xr.open_mfdataset('A*.nc', concat_dim=['binDataDim', 'binIndexDim', 'binListDim'], group='level-3_binned_data')\n",
    "# search code in: https://github.com/pydata/xarray/\n",
    "\n",
    "# alright need to send a question to the xarray developer site"
   ]
  },
  {
   "cell_type": "code",
   "execution_count": 4,
   "metadata": {
    "collapsed": false
   },
   "outputs": [
    {
     "data": {
      "text/plain": [
       "<xarray.Dataset>\n",
       "Dimensions:      (binDataDim: 7654961, binIndexDim: 4320, binListDim: 7654961)\n",
       "Coordinates:\n",
       "  * binDataDim   (binDataDim) int64 0 1 2 3 4 5 6 7 8 9 10 11 12 13 14 15 16 ...\n",
       "  * binIndexDim  (binIndexDim) int64 0 1 2 3 4 5 6 7 8 9 10 11 12 13 14 15 ...\n",
       "  * binListDim   (binListDim) int64 0 1 2 3 4 5 6 7 8 9 10 11 12 13 14 15 16 ...\n",
       "Data variables:\n",
       "    BinList      (binListDim) {'names':['bin_num','nobs','nscenes','weights','time_rec'], 'formats':['<u4','<i2','<i2','<f4','<f4'], 'offsets':[0,4,6,8,12], 'itemsize':16, 'aligned':True} (238575, 6, 1, 2.4494898319244385, 0.0) ...\n",
       "    chlor_a      (binDataDim) {'names':['sum','sum_squared'], 'formats':['<f4','<f4'], 'offsets':[0,4], 'itemsize':8, 'aligned':True} (0.8002867698669434, 0.2616187632083893) ...\n",
       "    chl_ocx      (binDataDim) {'names':['sum','sum_squared'], 'formats':['<f4','<f4'], 'offsets':[0,4], 'itemsize':8, 'aligned':True} (0.8008906245231628, 0.26200050115585327) ...\n",
       "    BinIndex     (binIndexDim) {'names':['start_num','begin','extent','max'], 'formats':['<u4','<u4','<u4','<u4'], 'offsets':[0,4,8,12], 'itemsize':16, 'aligned':True} (1, 0, 0, 3) ..."
      ]
     },
     "execution_count": 4,
     "metadata": {},
     "output_type": "execute_result"
    }
   ],
   "source": [
    "xr.open_dataset('A20110012011008.L3b_8D_CHL.nc', group='level-3_binned_data')"
   ]
  },
  {
   "cell_type": "code",
   "execution_count": 7,
   "metadata": {
    "collapsed": false
   },
   "outputs": [
    {
     "data": {
      "text/plain": [
       "<xarray.Dataset>\n",
       "Dimensions:      (binDataDim: 7680932, binIndexDim: 4320, binListDim: 7680932)\n",
       "Coordinates:\n",
       "  * binDataDim   (binDataDim) int64 0 1 2 3 4 5 6 7 8 9 10 11 12 13 14 15 16 ...\n",
       "  * binIndexDim  (binIndexDim) int64 0 1 2 3 4 5 6 7 8 9 10 11 12 13 14 15 ...\n",
       "  * binListDim   (binListDim) int64 0 1 2 3 4 5 6 7 8 9 10 11 12 13 14 15 16 ...\n",
       "Data variables:\n",
       "    BinList      (binListDim) {'names':['bin_num','nobs','nscenes','weights','time_rec'], 'formats':['<u4','<i2','<i2','<f4','<f4'], 'offsets':[0,4,6,8,12], 'itemsize':16, 'aligned':True} (235149, 4, 2, 2.732050895690918, 0.0) ...\n",
       "    chlor_a      (binDataDim) {'names':['sum','sum_squared'], 'formats':['<f4','<f4'], 'offsets':[0,4], 'itemsize':8, 'aligned':True} (0.9141194224357605, 0.31699174642562866) ...\n",
       "    chl_ocx      (binDataDim) {'names':['sum','sum_squared'], 'formats':['<f4','<f4'], 'offsets':[0,4], 'itemsize':8, 'aligned':True} (0.9146864414215088, 0.31730812788009644) ...\n",
       "    BinIndex     (binIndexDim) {'names':['start_num','begin','extent','max'], 'formats':['<u4','<u4','<u4','<u4'], 'offsets':[0,4,8,12], 'itemsize':16, 'aligned':True} (1, 0, 0, 3) ..."
      ]
     },
     "execution_count": 7,
     "metadata": {},
     "output_type": "execute_result"
    }
   ],
   "source": [
    "test=xr.open_dataset('A20110092011016.L3b_8D_CHL.nc', group='level-3_binned_data')\n",
    "test"
   ]
  },
  {
   "cell_type": "code",
   "execution_count": 10,
   "metadata": {
    "collapsed": false
   },
   "outputs": [
    {
     "data": {
      "text/plain": [
       "['binDataDim', 'binIndexDim', 'binListDim']"
      ]
     },
     "execution_count": 10,
     "metadata": {},
     "output_type": "execute_result"
    }
   ],
   "source": [
    "list(test.dims.keys())"
   ]
  },
  {
   "cell_type": "code",
   "execution_count": 16,
   "metadata": {
    "collapsed": false
   },
   "outputs": [],
   "source": [
    "xr.open_mfdataset?"
   ]
  },
  {
   "cell_type": "code",
   "execution_count": null,
   "metadata": {
    "collapsed": true
   },
   "outputs": [],
   "source": []
  }
 ],
 "metadata": {
  "kernelspec": {
   "display_name": "Python 3",
   "language": "python",
   "name": "python3"
  },
  "language_info": {
   "codemirror_mode": {
    "name": "ipython",
    "version": 3
   },
   "file_extension": ".py",
   "mimetype": "text/x-python",
   "name": "python",
   "nbconvert_exporter": "python",
   "pygments_lexer": "ipython3",
   "version": "3.5.1"
  }
 },
 "nbformat": 4,
 "nbformat_minor": 0
}
