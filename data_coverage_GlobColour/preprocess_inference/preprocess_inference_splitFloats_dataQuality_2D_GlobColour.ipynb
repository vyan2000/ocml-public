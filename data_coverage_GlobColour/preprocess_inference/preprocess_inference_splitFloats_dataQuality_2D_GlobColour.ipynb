{
 "cells": [
  {
   "cell_type": "code",
   "execution_count": null,
   "metadata": {
    "collapsed": true,
    "deletable": true,
    "editable": true
   },
   "outputs": [],
   "source": [
    "import xarray as xr\n",
    "import numpy as np\n",
    "import pandas as pd\n",
    "%matplotlib inline\n",
    "from matplotlib import pyplot as plt\n",
    "from dask.diagnostics import ProgressBar\n",
    "import seaborn as sns\n",
    "from matplotlib.colors import LogNorm"
   ]
  },
  {
   "cell_type": "markdown",
   "metadata": {
    "deletable": true,
    "editable": true
   },
   "source": [
    "* after meeting, working on the first paper, will sent the paper to the group soon for advices, please review and provide feedback and edits.\n",
    "## preprocessing :\n",
    "* float trajectory based, interpolation, order 1 difference \n",
    "* inference\n",
    "  * Synthetic Data for inference and variable {mean}\n",
    "  * Synthetic Data for std {BT}\n",
    "  * check pair-wise cr, remove redundant?\n",
    "  * GAM degree < 3, Chap 7 & Chap 1-7\n",
    "  * BR & GB, $J=1,2,3,4,5,6 (J<6)$, $\\lambda$, $d(LOSS)$\n",
    "    * DB is not applicable here; Loss is based on expected empirical margin error\n",
    "    * X, paper & manual\n",
    "  * add prediction maps\n",
    "\n"
   ]
  },
  {
   "cell_type": "code",
   "execution_count": null,
   "metadata": {
    "collapsed": true,
    "deletable": true,
    "editable": true
   },
   "outputs": [],
   "source": []
  },
  {
   "cell_type": "code",
   "execution_count": null,
   "metadata": {
    "collapsed": true,
    "deletable": true,
    "editable": true
   },
   "outputs": [],
   "source": []
  },
  {
   "cell_type": "code",
   "execution_count": null,
   "metadata": {
    "collapsed": true,
    "deletable": true,
    "editable": true
   },
   "outputs": [],
   "source": []
  },
  {
   "cell_type": "code",
   "execution_count": null,
   "metadata": {
    "collapsed": true,
    "deletable": true,
    "editable": true
   },
   "outputs": [],
   "source": []
  }
 ],
 "metadata": {
  "kernelspec": {
   "display_name": "Python 3",
   "language": "python",
   "name": "python3"
  },
  "language_info": {
   "codemirror_mode": {
    "name": "ipython",
    "version": 3
   },
   "file_extension": ".py",
   "mimetype": "text/x-python",
   "name": "python",
   "nbconvert_exporter": "python",
   "pygments_lexer": "ipython3",
   "version": "3.5.3"
  }
 },
 "nbformat": 4,
 "nbformat_minor": 2
}
